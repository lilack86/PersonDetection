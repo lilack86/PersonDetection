{
 "cells": [
  {
   "cell_type": "code",
   "execution_count": 1,
   "id": "75993f28-14bf-43d3-93b2-4a2653817aa8",
   "metadata": {},
   "outputs": [],
   "source": [
    "import os\n",
    "import glob\n",
    "from IPython.display import Image, display\n",
    "from IPython import display\n",
    "display.clear_output()"
   ]
  },
  {
   "cell_type": "markdown",
   "id": "814d7e2b-6142-4321-b3a9-207766d4eb2a",
   "metadata": {},
   "source": [
    "### 1. Get dataset coco\n",
    "Dataset name : COCO-2017-train <br>\n",
    "class : person <br>\n",
    "library : fiftyone <br>"
   ]
  },
  {
   "cell_type": "code",
   "execution_count": 2,
   "id": "be05916a-deef-4979-8ef2-7347d9eddc02",
   "metadata": {},
   "outputs": [],
   "source": [
    "import fiftyone as fo\n",
    "import fiftyone.utils.ultralytics as fou\n",
    "import fiftyone.zoo as foz"
   ]
  },
  {
   "cell_type": "code",
   "execution_count": 8,
   "id": "a6a378e9-e009-4989-9052-c49085d90f31",
   "metadata": {},
   "outputs": [
    {
     "name": "stdout",
     "output_type": "stream",
     "text": [
      "Downloading split 'train' to './data/train' if necessary\n",
      "Found annotations at 'data/raw/instances_train2017.json'\n",
      "Sufficient images already downloaded\n",
      "Existing download of split 'train' is sufficient\n",
      "Loading existing dataset 'COCO-2017-train'. To reload from disk, either delete the existing dataset or provide a custom `dataset_name` to use\n",
      "Downloading split 'validation' to './data/validation' if necessary\n",
      "Found annotations at 'data/raw/instances_val2017.json'\n",
      "Sufficient images already downloaded\n",
      "Existing download of split 'validation' is sufficient\n",
      "Loading existing dataset 'COCO-2017-validation'. To reload from disk, either delete the existing dataset or provide a custom `dataset_name` to use\n",
      "Downloading split 'validation' to './data/validation' if necessary\n",
      "Found annotations at 'data/raw/instances_val2017.json'\n",
      "Sufficient images already downloaded\n",
      "Existing download of split 'validation' is sufficient\n",
      "Loading existing dataset 'COCO-2017-test'. To reload from disk, either delete the existing dataset or provide a custom `dataset_name` to use\n"
     ]
    }
   ],
   "source": [
    "ds_train = foz.load_zoo_dataset(\n",
    "    \"coco-2017\",\n",
    "    split=\"train\",\n",
    "    dataset_name=\"COCO-2017-train\",\n",
    "    label_types=[\"detections\"],\n",
    "    classes=[\"person\"],\n",
    "    shuffle=True,\n",
    "    dataset_dir='./data',\n",
    "    max_samples=6000,\n",
    "    seed=43\n",
    ")\n",
    "\n",
    "ds_val = foz.load_zoo_dataset(\n",
    "    \"coco-2017\",\n",
    "    split=\"validation\",\n",
    "    dataset_name=\"COCO-2017-validation\",\n",
    "    label_types=[\"detections\"],\n",
    "    classes=[\"person\"],\n",
    "    shuffle=True,\n",
    "    dataset_dir='./data',\n",
    "    max_samples=300,\n",
    "    seed=43\n",
    ")\n",
    "\n",
    "ds_test = foz.load_zoo_dataset(\n",
    "    \"coco-2017\",\n",
    "    split=\"validation\",\n",
    "    dataset_name=\"COCO-2017-test\",\n",
    "    label_types=[\"detections\"],\n",
    "    classes=[\"person\"],\n",
    "    shuffle=True,\n",
    "    dataset_dir='./data',\n",
    "    max_samples=100,\n",
    "    seed=43\n",
    ")"
   ]
  },
  {
   "cell_type": "code",
   "execution_count": 3,
   "id": "f8a3a7e3-b4b0-4071-a7ee-c612dd91e841",
   "metadata": {},
   "outputs": [
    {
     "name": "stdout",
     "output_type": "stream",
     "text": [
      "Downloading split 'train' to './data/train' if necessary\n",
      "Found annotations at 'data/raw/instances_train2017.json'\n",
      "Sufficient images already downloaded\n",
      "Existing download of split 'train' is sufficient\n",
      "Loading existing dataset 'COCO-2017-train'. To reload from disk, either delete the existing dataset or provide a custom `dataset_name` to use\n"
     ]
    }
   ],
   "source": [
    "ds_train = foz.load_zoo_dataset(\n",
    "    \"coco-2017\",\n",
    "    split=\"train\",\n",
    "    dataset_name=\"COCO-2017-train\",\n",
    "    label_types=[\"detections\"],\n",
    "    classes=[\"person\"],\n",
    "    shuffle=True,\n",
    "    dataset_dir='./data',\n",
    "    max_samples=6000,\n",
    "    seed=43\n",
    ")"
   ]
  },
  {
   "cell_type": "code",
   "execution_count": 10,
   "id": "4bca41bd-7bf6-4008-b67f-39d77daef636",
   "metadata": {},
   "outputs": [],
   "source": [
    "import json\n",
    "f = open('data/train/labels.json')\n",
    "data = json.load(f)\n",
    "f.close()"
   ]
  },
  {
   "cell_type": "code",
   "execution_count": 11,
   "id": "4eeb6213-53e8-46dc-ab04-32ce49c6e852",
   "metadata": {},
   "outputs": [
    {
     "data": {
      "text/plain": [
       "dict_keys(['info', 'licenses', 'images', 'annotations', 'categories'])"
      ]
     },
     "execution_count": 11,
     "metadata": {},
     "output_type": "execute_result"
    }
   ],
   "source": [
    "data.keys()"
   ]
  },
  {
   "cell_type": "code",
   "execution_count": 15,
   "id": "4192a4fb-71ae-43c5-9e6d-755d7d786911",
   "metadata": {},
   "outputs": [
    {
     "data": {
      "text/plain": [
       "{'segmentation': [[429.79,\n",
       "   179.62,\n",
       "   416.66,\n",
       "   163.22,\n",
       "   403.54,\n",
       "   135.33,\n",
       "   386.32,\n",
       "   113.19,\n",
       "   396.16,\n",
       "   107.45,\n",
       "   406.82,\n",
       "   107.45,\n",
       "   396.98,\n",
       "   84.48,\n",
       "   374.01,\n",
       "   80.38,\n",
       "   360.89,\n",
       "   93.5,\n",
       "   343.66,\n",
       "   94.32,\n",
       "   342.02,\n",
       "   86.94,\n",
       "   322.34,\n",
       "   82.84,\n",
       "   314.14,\n",
       "   99.24,\n",
       "   317.42,\n",
       "   110.73,\n",
       "   314.14,\n",
       "   127.13,\n",
       "   319.88,\n",
       "   150.92,\n",
       "   319.06,\n",
       "   164.86,\n",
       "   312.5,\n",
       "   177.98,\n",
       "   313.32,\n",
       "   195.21,\n",
       "   330.54,\n",
       "   201.77,\n",
       "   339.56,\n",
       "   196.85,\n",
       "   349.41,\n",
       "   177.98,\n",
       "   355.15,\n",
       "   191.11,\n",
       "   364.17,\n",
       "   192.75,\n",
       "   413.38,\n",
       "   190.29],\n",
       "  [429.79,\n",
       "   179.62,\n",
       "   440.45,\n",
       "   163.22,\n",
       "   433.89,\n",
       "   149.28,\n",
       "   429.79,\n",
       "   142.72,\n",
       "   419.94,\n",
       "   148.46,\n",
       "   426.51,\n",
       "   137.79,\n",
       "   453.57,\n",
       "   122.21,\n",
       "   490.48,\n",
       "   115.65,\n",
       "   528.21,\n",
       "   136.97,\n",
       "   529.03,\n",
       "   164.86,\n",
       "   522.47,\n",
       "   178.8,\n",
       "   525.75,\n",
       "   198.49,\n",
       "   532.31,\n",
       "   217.35,\n",
       "   520.83,\n",
       "   232.12,\n",
       "   509.35,\n",
       "   235.4,\n",
       "   504.42,\n",
       "   246.06,\n",
       "   506.88,\n",
       "   278.05,\n",
       "   499.5,\n",
       "   286.25,\n",
       "   500.32,\n",
       "   323.16,\n",
       "   491.3,\n",
       "   357.61,\n",
       "   479.0,\n",
       "   369.09,\n",
       "   465.87,\n",
       "   383.03,\n",
       "   465.05,\n",
       "   401.08,\n",
       "   424.04,\n",
       "   401.08,\n",
       "   423.22,\n",
       "   378.11,\n",
       "   406.82,\n",
       "   374.83,\n",
       "   391.24,\n",
       "   391.24,\n",
       "   385.49,\n",
       "   401.08,\n",
       "   341.2,\n",
       "   401.9,\n",
       "   339.56,\n",
       "   385.49,\n",
       "   346.95,\n",
       "   366.63,\n",
       "   301.01,\n",
       "   327.26,\n",
       "   284.61,\n",
       "   309.22,\n",
       "   271.49,\n",
       "   300.19,\n",
       "   277.23,\n",
       "   327.26,\n",
       "   260.82,\n",
       "   362.53,\n",
       "   251.8,\n",
       "   401.08,\n",
       "   217.35,\n",
       "   401.9,\n",
       "   224.74,\n",
       "   365.81,\n",
       "   209.97,\n",
       "   318.24,\n",
       "   204.23,\n",
       "   343.66,\n",
       "   187.83,\n",
       "   375.65,\n",
       "   181.26,\n",
       "   401.08,\n",
       "   151.74,\n",
       "   401.9,\n",
       "   153.38,\n",
       "   349.41,\n",
       "   149.28,\n",
       "   264.93,\n",
       "   159.12,\n",
       "   229.66,\n",
       "   179.62,\n",
       "   211.61,\n",
       "   204.23,\n",
       "   236.22,\n",
       "   211.61,\n",
       "   232.94,\n",
       "   195.21,\n",
       "   209.97,\n",
       "   221.45,\n",
       "   233.76,\n",
       "   232.94,\n",
       "   224.74,\n",
       "   214.07,\n",
       "   191.93,\n",
       "   233.76,\n",
       "   210.79,\n",
       "   237.86,\n",
       "   205.05,\n",
       "   228.84,\n",
       "   186.19,\n",
       "   245.24,\n",
       "   185.37,\n",
       "   314.14,\n",
       "   182.91,\n",
       "   313.32,\n",
       "   196.03,\n",
       "   329.72,\n",
       "   204.23,\n",
       "   339.56,\n",
       "   197.67,\n",
       "   343.66,\n",
       "   190.29,\n",
       "   360.07,\n",
       "   191.93,\n",
       "   414.2,\n",
       "   191.11,\n",
       "   428.15,\n",
       "   179.62]],\n",
       " 'area': 78782.44339999999,\n",
       " 'iscrowd': 0,\n",
       " 'image_id': 282134,\n",
       " 'bbox': [149.28, 80.38, 383.03, 321.52],\n",
       " 'category_id': 18,\n",
       " 'id': 8807}"
      ]
     },
     "execution_count": 15,
     "metadata": {},
     "output_type": "execute_result"
    }
   ],
   "source": [
    "data['annotations'][3]"
   ]
  },
  {
   "cell_type": "code",
   "execution_count": 5,
   "id": "041501eb-5f86-4dbd-9375-de6b81535b51",
   "metadata": {},
   "outputs": [
    {
     "name": "stdout",
     "output_type": "stream",
     "text": [
      "Session launched. Run `session.show()` to open the App in a cell output.\n"
     ]
    }
   ],
   "source": [
    "# Creates a session but does not open an App instance\n",
    "session = fo.launch_app(ds_train, auto=False)\n"
   ]
  },
  {
   "cell_type": "code",
   "execution_count": 7,
   "id": "fad135a1-7fc3-4955-8fd4-f4c6067faf57",
   "metadata": {},
   "outputs": [
    {
     "data": {
      "text/html": [
       "\n",
       "        <iframe\n",
       "            width=\"100%\"\n",
       "            height=\"800\"\n",
       "            src=\"http://localhost:5151/?notebook=True&subscription=a395fd84-66f8-4b30-9edb-4ef3f4d02cc7\"\n",
       "            frameborder=\"0\"\n",
       "            allowfullscreen\n",
       "            \n",
       "        ></iframe>\n",
       "        "
      ],
      "text/plain": [
       "<IPython.lib.display.IFrame at 0x7fbe25f6d810>"
      ]
     },
     "metadata": {},
     "output_type": "display_data"
    }
   ],
   "source": [
    "session.view = ds_train.take(50)\n",
    "session.show()"
   ]
  },
  {
   "cell_type": "code",
   "execution_count": 25,
   "id": "c24b9012-3f29-4900-b852-84731185624a",
   "metadata": {},
   "outputs": [],
   "source": [
    "ds_val.delete()"
   ]
  },
  {
   "cell_type": "code",
   "execution_count": 18,
   "id": "0166418f-c950-4c76-85b0-330a710bf157",
   "metadata": {},
   "outputs": [
    {
     "name": "stdout",
     "output_type": "stream",
     "text": [
      "Downloading split 'validation' to './data/validation' if necessary\n",
      "Found annotations at 'data/raw/instances_val2017.json'\n",
      "Sufficient images already downloaded\n",
      "Existing download of split 'validation' is sufficient\n",
      "Loading 'coco-2017' split 'validation'\n",
      " 100% |█████████████████| 100/100 [474.6ms elapsed, 0s remaining, 211.5 samples/s]      \n",
      "Dataset 'COCO-2017-test' created\n"
     ]
    }
   ],
   "source": [
    "ds_test = foz.load_zoo_dataset(\n",
    "    \"coco-2017\",\n",
    "    split=\"validation\",\n",
    "    dataset_name=\"COCO-2017-test\",\n",
    "    label_types=[\"detections\"],\n",
    "    classes=[\"person\"],\n",
    "    shuffle=True,\n",
    "    dataset_dir='./data',\n",
    "    max_samples=100,\n",
    "    seed=43\n",
    ")"
   ]
  },
  {
   "cell_type": "code",
   "execution_count": 26,
   "id": "2b709565-a836-4a8b-9737-05b7c828e246",
   "metadata": {},
   "outputs": [
    {
     "name": "stdout",
     "output_type": "stream",
     "text": [
      "Downloading split 'validation' to './data/validation' if necessary\n",
      "Found annotations at 'data/raw/instances_val2017.json'\n",
      "Sufficient images already downloaded\n",
      "Existing download of split 'validation' is sufficient\n",
      "Loading 'coco-2017' split 'validation'\n",
      " 100% |█████████████████| 300/300 [1.1s elapsed, 0s remaining, 280.7 samples/s]         \n",
      "Dataset 'COCO-2017-validation' created\n"
     ]
    }
   ],
   "source": [
    "ds_val = foz.load_zoo_dataset(\n",
    "    \"coco-2017\",\n",
    "    split=\"validation\",\n",
    "    dataset_name=\"COCO-2017-validation\",\n",
    "    label_types=[\"detections\"],\n",
    "    classes=[\"person\"],\n",
    "    shuffle=True,\n",
    "    dataset_dir='./data',\n",
    "    max_samples=300,\n",
    "    seed=43\n",
    ")"
   ]
  },
  {
   "cell_type": "markdown",
   "id": "03c8db3c-f431-4d34-aa5b-7fff086e7cd0",
   "metadata": {},
   "source": [
    "### 2. Filter dataset label to person only\n",
    "One image can consist of many ground truth labels. Hence, we filtered only specific to person"
   ]
  },
  {
   "cell_type": "code",
   "execution_count": 14,
   "id": "72a266c8-6767-4e08-9c8f-e0639225edf6",
   "metadata": {},
   "outputs": [],
   "source": [
    "def pickPersonLabel(dataset):\n",
    "  # Iterate over the dataset\n",
    "  for sample in dataset:\n",
    "      # Get the detections\n",
    "      detections = sample.ground_truth.detections\n",
    "      # Filter out non-person detections\n",
    "      detections = [d for d in detections if d.label == \"person\"]\n",
    "      # Update the detections\n",
    "      sample.ground_truth.detections = detections\n",
    "      # Save the sample\n",
    "      sample.save()"
   ]
  },
  {
   "cell_type": "code",
   "execution_count": 9,
   "id": "431d949e-2c93-4521-984e-ec209ac2ec9a",
   "metadata": {},
   "outputs": [],
   "source": [
    "pickPersonLabel(ds_train)"
   ]
  },
  {
   "cell_type": "code",
   "execution_count": 27,
   "id": "06bd14d4-4ee2-4361-a79d-7822413e6a2c",
   "metadata": {},
   "outputs": [],
   "source": [
    "\n",
    "pickPersonLabel(ds_val)\n"
   ]
  },
  {
   "cell_type": "code",
   "execution_count": 19,
   "id": "0af30c0f-8717-45ca-bd14-c1d807946938",
   "metadata": {},
   "outputs": [],
   "source": [
    "pickPersonLabel(ds_test)"
   ]
  },
  {
   "cell_type": "code",
   "execution_count": 28,
   "id": "ecc842dd-7510-4915-b2fc-fd06598fbecc",
   "metadata": {},
   "outputs": [],
   "source": [
    "train_classes = ds_train.distinct(\"ground_truth.detections.label\")\n",
    "val_classes = ds_val.distinct(\"ground_truth.detections.label\")\n",
    "test_classes = ds_test.distinct(\"ground_truth.detections.label\")"
   ]
  },
  {
   "cell_type": "code",
   "execution_count": 29,
   "id": "0a09c9bd-4b47-4ae6-8956-39129b4a2728",
   "metadata": {},
   "outputs": [
    {
     "name": "stdout",
     "output_type": "stream",
     "text": [
      "train classes: ['person']\n",
      "val classes: ['person']\n",
      "test classes: ['person']\n"
     ]
    }
   ],
   "source": [
    "print(\"train classes:\", train_classes)\n",
    "print(\"val classes:\", val_classes)\n",
    "print(\"test classes:\", test_classes)"
   ]
  },
  {
   "cell_type": "code",
   "execution_count": 30,
   "id": "90509c90-69c3-44e0-8cb6-57c1dd6af0e1",
   "metadata": {},
   "outputs": [
    {
     "name": "stdout",
     "output_type": "stream",
     "text": [
      "train : 6000\n",
      "val : 300\n",
      "test : 100\n"
     ]
    }
   ],
   "source": [
    "print(f\"train : {ds_train.count()}\")\n",
    "print(f\"val : {ds_val.count()}\")\n",
    "print(f\"test : {ds_test.count()}\")"
   ]
  },
  {
   "cell_type": "markdown",
   "id": "9a074531-4447-430a-a75d-65cd19450985",
   "metadata": {},
   "source": [
    "### 3. Change dataset format to Yolo dataset\n",
    "Coco dataset and Yolo dataset have different format and structure directory. We have to format from coco format to yolo format before we used it."
   ]
  },
  {
   "cell_type": "code",
   "execution_count": 31,
   "id": "2c74fb73-add1-48f6-8f5d-3f15b0a0adba",
   "metadata": {},
   "outputs": [],
   "source": [
    "EXPORT_DIR = \"./data-yolo\"\n",
    "\n",
    "# YOLO format requires a common classes list\n",
    "classes = ds_train.distinct(\"ground_truth.detections.label\")"
   ]
  },
  {
   "cell_type": "code",
   "execution_count": 33,
   "id": "bebc8034-8e5e-466b-9f9e-343e679625aa",
   "metadata": {},
   "outputs": [
    {
     "name": "stdout",
     "output_type": "stream",
     "text": []
    },
    {
     "name": "stdout",
     "output_type": "stream",
     "text": [
      " 100% |███████████████| 6000/6000 [10.5s elapsed, 0s remaining, 588.2 samples/s]      \n",
      "Directory './data-yolo' already exists; export will be merged with existing files\n",
      " 100% |█████████████████| 300/300 [554.5ms elapsed, 0s remaining, 541.1 samples/s]      \n",
      "Directory './data-yolo' already exists; export will be merged with existing files\n",
      " 100% |█████████████████| 100/100 [115.6ms elapsed, 0s remaining, 864.7 samples/s]     \n"
     ]
    }
   ],
   "source": [
    "ds_train.export(\n",
    "    export_dir=EXPORT_DIR,\n",
    "    dataset_type=fo.types.YOLOv5Dataset,\n",
    "    label_field=\"ground_truth\",\n",
    "    split=\"train\",\n",
    "    classes=classes,\n",
    ")\n",
    "\n",
    "ds_val.export(\n",
    "    export_dir=EXPORT_DIR,\n",
    "    dataset_type=fo.types.YOLOv5Dataset,\n",
    "    label_field=\"ground_truth\",\n",
    "    split=\"val\",\n",
    "    classes=classes,\n",
    ")\n",
    "\n",
    "ds_test.export(\n",
    "    export_dir=EXPORT_DIR,\n",
    "    dataset_type=fo.types.YOLOv5Dataset,\n",
    "    label_field=\"ground_truth\",\n",
    "    split=\"test\",\n",
    "    classes=classes,\n",
    ")"
   ]
  },
  {
   "cell_type": "code",
   "execution_count": null,
   "id": "9f5ad38d-4305-4c12-8789-234fcf733e8b",
   "metadata": {},
   "outputs": [],
   "source": []
  }
 ],
 "metadata": {
  "kernelspec": {
   "display_name": "Python 3 (ipykernel)",
   "language": "python",
   "name": "python3"
  },
  "language_info": {
   "codemirror_mode": {
    "name": "ipython",
    "version": 3
   },
   "file_extension": ".py",
   "mimetype": "text/x-python",
   "name": "python",
   "nbconvert_exporter": "python",
   "pygments_lexer": "ipython3",
   "version": "3.11.7"
  }
 },
 "nbformat": 4,
 "nbformat_minor": 5
}
